{
 "cells": [
  {
   "cell_type": "markdown",
   "id": "8252ce27-2b00-4bf5-8dc6-18da19aa8921",
   "metadata": {},
   "source": [
    "### imports Libraries "
   ]
  },
  {
   "cell_type": "code",
   "execution_count": null,
   "id": "59869714-1553-4757-a8f0-f3bfd94f8f88",
   "metadata": {},
   "outputs": [],
   "source": []
  },
  {
   "cell_type": "markdown",
   "id": "e161e131-476f-46ae-ba7d-45419428e76c",
   "metadata": {},
   "source": [
    "### Load Dataset"
   ]
  },
  {
   "cell_type": "code",
   "execution_count": null,
   "id": "e5d0642e-173c-4f10-83c8-548e351c7945",
   "metadata": {},
   "outputs": [],
   "source": []
  },
  {
   "cell_type": "markdown",
   "id": "723c9834-be96-43e0-a589-accdc8acfac3",
   "metadata": {},
   "source": [
    "### Data Analysis using Pandas"
   ]
  },
  {
   "cell_type": "code",
   "execution_count": null,
   "id": "cfb32f89-b650-4d59-803e-5c78d5d08e5c",
   "metadata": {},
   "outputs": [],
   "source": []
  },
  {
   "cell_type": "markdown",
   "id": "7abcd677-95f4-4531-b4d6-1b6910d9ff01",
   "metadata": {},
   "source": [
    "### Data Visualization"
   ]
  },
  {
   "cell_type": "code",
   "execution_count": null,
   "id": "c8e9d0fe-d320-47f0-acdf-cf636443a5cf",
   "metadata": {},
   "outputs": [],
   "source": []
  },
  {
   "cell_type": "markdown",
   "id": "9cfe13a3-e2b5-496e-9233-9da8d47b8025",
   "metadata": {},
   "source": [
    "### Data set splitting to Train set and Test set"
   ]
  },
  {
   "cell_type": "code",
   "execution_count": null,
   "id": "0df9a4cf-1434-4aac-85d2-d606af6b6b64",
   "metadata": {},
   "outputs": [],
   "source": []
  },
  {
   "cell_type": "markdown",
   "id": "1155f07d-1a16-480e-8c19-8ffafe25fc7a",
   "metadata": {},
   "source": [
    "### Model Building and Prediction to see which Model performs the best"
   ]
  },
  {
   "cell_type": "code",
   "execution_count": null,
   "id": "28421643-a2ca-4766-9341-60c69c6137cc",
   "metadata": {},
   "outputs": [],
   "source": []
  },
  {
   "cell_type": "markdown",
   "id": "78a29c70-10f7-4237-affa-f03b5ab80f58",
   "metadata": {},
   "source": [
    "### Start Modelling using Logistic Regression"
   ]
  },
  {
   "cell_type": "code",
   "execution_count": null,
   "id": "b9184feb-8b2d-4462-a8a6-5563ac4e07b8",
   "metadata": {},
   "outputs": [],
   "source": []
  },
  {
   "cell_type": "markdown",
   "id": "a32846f9-1ca4-47b2-ad3c-4b333d1940a3",
   "metadata": {},
   "source": [
    "#### How Accuracy Testing is calculated from the Prediction Dataframe table (Optional)"
   ]
  },
  {
   "cell_type": "code",
   "execution_count": null,
   "id": "44087772-a9f8-498a-9b00-2dcd3b6c5f30",
   "metadata": {},
   "outputs": [],
   "source": []
  },
  {
   "cell_type": "markdown",
   "id": "c975e8f0-2086-4d64-b13f-7535b0e17a91",
   "metadata": {},
   "source": [
    "### A detailed classification report to evaluate the performance of a classification model"
   ]
  },
  {
   "cell_type": "code",
   "execution_count": null,
   "id": "4de18e9f-c698-4232-83d6-d26253f3b04c",
   "metadata": {},
   "outputs": [],
   "source": []
  },
  {
   "cell_type": "markdown",
   "id": "a1cc64d0-1661-4e4d-bd1c-5ad887a70b69",
   "metadata": {},
   "source": [
    "### Regularization to improve the performance of your model"
   ]
  },
  {
   "cell_type": "code",
   "execution_count": null,
   "id": "636b5105-e091-477f-b28a-4c230bc9b857",
   "metadata": {},
   "outputs": [],
   "source": []
  },
  {
   "cell_type": "markdown",
   "id": "dc67ac24-6ec2-4163-ae2a-db6498c501c0",
   "metadata": {},
   "source": [
    "### Using Your Model to Predict real life Unseen features"
   ]
  },
  {
   "cell_type": "code",
   "execution_count": null,
   "id": "f0c938c1-5924-43d3-aa92-99a822361bcb",
   "metadata": {},
   "outputs": [],
   "source": []
  }
 ],
 "metadata": {
  "kernelspec": {
   "display_name": "Python 3 (ipykernel)",
   "language": "python",
   "name": "python3"
  },
  "language_info": {
   "codemirror_mode": {
    "name": "ipython",
    "version": 3
   },
   "file_extension": ".py",
   "mimetype": "text/x-python",
   "name": "python",
   "nbconvert_exporter": "python",
   "pygments_lexer": "ipython3",
   "version": "3.11.7"
  }
 },
 "nbformat": 4,
 "nbformat_minor": 5
}
